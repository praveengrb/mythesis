{
  "nbformat": 4,
  "nbformat_minor": 0,
  "metadata": {
    "colab": {
      "provenance": [],
      "collapsed_sections": [],
      "authorship_tag": "ABX9TyMBQS29T9oFz1h4KOMeRela",
      "include_colab_link": true
    },
    "kernelspec": {
      "name": "python3",
      "display_name": "Python 3"
    },
    "language_info": {
      "name": "python"
    }
  },
  "cells": [
    {
      "cell_type": "markdown",
      "metadata": {
        "id": "view-in-github",
        "colab_type": "text"
      },
      "source": [
        "<a href=\"https://colab.research.google.com/github/praveengrb/mythesis/blob/main/CRACK.ipynb\" target=\"_parent\"><img src=\"https://colab.research.google.com/assets/colab-badge.svg\" alt=\"Open In Colab\"/></a>"
      ]
    },
    {
      "cell_type": "code",
      "execution_count": null,
      "metadata": {
        "id": "rG_YENhJmvCj",
        "colab": {
          "base_uri": "https://localhost:8080/"
        },
        "outputId": "1b8081d2-cb77-41a0-9c98-911c6ade0a45"
      },
      "outputs": [
        {
          "output_type": "stream",
          "name": "stdout",
          "text": [
            "Mounted at /content/drive\n"
          ]
        }
      ],
      "source": [
        "from google.colab import drive\n",
        "drive.mount(\"/content/drive\")"
      ]
    },
    {
      "cell_type": "code",
      "execution_count": null,
      "metadata": {
        "id": "qm16Ol5CtEYG"
      },
      "outputs": [],
      "source": [
        "import numpy as np \n",
        "import pandas as pd \n",
        "\n",
        "import os\n",
        "for dirname, _, filenames in os.walk('/content/drive/MyDrive/crackmain/crack'):\n",
        "    for filename in filenames:\n",
        "        print(os.path.join(dirname, filename))\n",
        "\n"
      ]
    },
    {
      "cell_type": "code",
      "execution_count": null,
      "metadata": {
        "id": "rci2EIgJ8ecd"
      },
      "outputs": [],
      "source": [
        "import matplotlib.pyplot as plt\n",
        "import cv2 # OpenCV\n",
        "import os\n",
        "import random\n",
        "import tensorflow as tf\n",
        "from tqdm import tqdm \n",
        "from sklearn.model_selection import train_test_split\n",
        "from keras.models import Sequential\n",
        "from keras.layers import Dense, Conv2D, MaxPooling2D,MaxPool2D , Dropout,Flatten, BatchNormalization\n",
        "from keras.callbacks import ModelCheckpoint, EarlyStopping\n",
        "import shutil\n",
        "import tempfile\n",
        "import matplotlib.pyplot as plt\n",
        "from PIL import Image\n",
        "import numpy as np\n",
        "import cv2\n",
        "from sklearn.metrics import classification_report\n",
        "import torch"
      ]
    },
    {
      "cell_type": "code",
      "execution_count": null,
      "metadata": {
        "colab": {
          "background_save": true
        },
        "id": "yBLxgAtL8jKL"
      },
      "outputs": [],
      "source": [
        "DIR = '/content/drive/MyDrive/crackmain/crack'\n",
        "label = ['Negative', 'Positive']\n",
        "def load_image(data_dir):\n",
        "    img_data = []\n",
        "    \n",
        "    for word in label:\n",
        "        path = os.path.join(data_dir, word)\n",
        "        y_label = label.index(word)\n",
        "        \n",
        "        for img_name in tqdm(os.listdir(path)):\n",
        "            img = cv2.imread(os.path.join(path, img_name), cv2.IMREAD_GRAYSCALE)\n",
        "            resizing = cv2.resize(img, (120,120))\n",
        "            \n",
        "            img_data.append([resizing, y_label])\n",
        "            \n",
        "    return np.array(img_data)\n",
        "\n",
        "dataset = load_image(DIR)"
      ]
    },
    {
      "cell_type": "code",
      "execution_count": null,
      "metadata": {
        "id": "irHmFcCK8kCp"
      },
      "outputs": [],
      "source": [
        "plt.figure(figsize = (4,4))\n",
        "plt.imshow(dataset[20003][0], cmap = 'gray')"
      ]
    },
    {
      "cell_type": "code",
      "execution_count": null,
      "metadata": {
        "id": "bXWljFsk8oxA"
      },
      "outputs": [],
      "source": [
        "Images = []\n",
        "\n",
        "import seaborn as sns\n",
        "\n",
        "for i in dataset:\n",
        "  if(i[1] == 0):\n",
        "    Images.append(\"Neg\")\n",
        "  elif(i[1] == 1):\n",
        "    Images.append(\"Pos\")\n",
        "\n",
        "plt.figure(figsize=(10,10))\n",
        "plt.subplot(2, 2, 1)\n",
        "sns.set_style('darkgrid')\n",
        "axl = sns.countplot(Images)\n",
        "axl.set_title(\"Number of Images\")"
      ]
    },
    {
      "cell_type": "code",
      "execution_count": null,
      "metadata": {
        "id": "NcSRMJd98uhf"
      },
      "outputs": [],
      "source": [
        "def threshold_gaussian(data_list):\n",
        "    thr_gau = []\n",
        "    for data in tqdm(data_list):\n",
        "        #tmp = cv2.cvtColor(data[0], cv2.COLOR_BGR2GRAY)\n",
        "        tmp = cv2.GaussianBlur(data[0], (9,9), 0)\n",
        "\n",
        "        tmp = cv2.adaptiveThreshold(\n",
        "            tmp,\n",
        "            maxValue = 255.0,\n",
        "            adaptiveMethod = cv2.ADAPTIVE_THRESH_GAUSSIAN_C,\n",
        "            thresholdType = cv2.THRESH_BINARY_INV,\n",
        "            blockSize = 19,\n",
        "            C = 9\n",
        "        )\n",
        "        thr_gau.append([tmp, data[1]])\n",
        "    del tmp\n",
        "    return np.array(thr_gau)\n",
        "        \n",
        "def threshold(data_list):\n",
        "    thr_only = []\n",
        "    for data in tqdm(data_list):\n",
        "        #tmp = cv2.cvtColor(data[0], cv2.COLOR_BGR2GRAY)\n",
        "        \n",
        "        tmp = cv2.adaptiveThreshold(\n",
        "        data[0],\n",
        "        maxValue = 255.0,\n",
        "        adaptiveMethod = cv2.ADAPTIVE_THRESH_GAUSSIAN_C,\n",
        "        thresholdType = cv2.THRESH_BINARY_INV,\n",
        "        blockSize = 19,\n",
        "        C = 9\n",
        "        )\n",
        "        thr_only.append([tmp, data[1]])\n",
        "    del tmp\n",
        "    return np.array(thr_only)\n",
        "\n",
        "dataset_t = threshold(dataset)\n",
        "dataset_tg = threshold_gaussian(dataset)"
      ]
    },
    {
      "cell_type": "code",
      "execution_count": null,
      "metadata": {
        "id": "-UZ64Df583EN"
      },
      "outputs": [],
      "source": [
        "rand_po = random.randrange(20001,40001)\n",
        "\n",
        "plt.figure(figsize = (12,12))\n",
        "\n",
        "plt.subplot(1,3,1)\n",
        "plt.title('Original')\n",
        "plt.imshow(dataset[rand_po][0], cmap = 'gray')\n",
        "\n",
        "plt.subplot(1,3,2)\n",
        "plt.title('Threshold Only')\n",
        "plt.imshow(dataset_t[rand_po][0], cmap = 'gray')\n",
        "\n",
        "plt.subplot(1,3,3)\n",
        "plt.title(\"GaussianBLUR and Threshold\")\n",
        "plt.imshow(dataset_tg[rand_po][0], cmap = 'gray')"
      ]
    },
    {
      "cell_type": "code",
      "execution_count": null,
      "metadata": {
        "id": "i9IlzbJW87Qt"
      },
      "outputs": [],
      "source": [
        "rand_ne = random.randrange(1,20001)\n",
        "\n",
        "plt.figure(figsize = (12,12))\n",
        "\n",
        "plt.subplot(1,3,1)\n",
        "plt.title('Original')\n",
        "plt.imshow(dataset[rand_ne][0], cmap = 'gray')\n",
        "\n",
        "plt.subplot(1,3,2)\n",
        "plt.title('Threshold Only')\n",
        "plt.imshow(dataset_t[rand_ne][0], cmap = 'gray')\n",
        "\n",
        "plt.subplot(1,3,3)\n",
        "plt.title(\"BLUR and Threshold\")\n",
        "plt.imshow(dataset_tg[rand_ne][0], cmap = 'gray')"
      ]
    },
    {
      "cell_type": "code",
      "execution_count": null,
      "metadata": {
        "id": "Md1Mz-g78-51"
      },
      "outputs": [],
      "source": [
        "del(dataset_t)\n",
        "del(dataset)\n",
        "dataset_tg[0][0].shape"
      ]
    },
    {
      "cell_type": "code",
      "execution_count": null,
      "metadata": {
        "id": "PFp3bnal9F2U"
      },
      "outputs": [],
      "source": [
        "X = list(zip(*dataset_tg))[0]\n",
        "y = list(zip(*dataset_tg))[1]\n",
        "\n",
        "X = np.array(X).reshape(-1, 120, 120, 1)\n",
        "X = X / 255\n",
        "y = np.array(y)"
      ]
    },
    {
      "cell_type": "code",
      "execution_count": null,
      "metadata": {
        "id": "37I_FWGO9J9D"
      },
      "outputs": [],
      "source": [
        "X_train, X_test, y_train, y_test = train_test_split(X, y, test_size = 0.3, stratify  = y, random_state = 5, shuffle = True)\n",
        "print(X_train.shape)\n",
        "print(y_train.shape)\n",
        "print(X_test.shape)\n",
        "print(y_test.shape)"
      ]
    },
    {
      "cell_type": "code",
      "execution_count": null,
      "metadata": {
        "id": "G337N3Oh9Kvo"
      },
      "outputs": [],
      "source": [
        "X.shape\n"
      ]
    },
    {
      "cell_type": "code",
      "execution_count": null,
      "metadata": {
        "id": "fwUfxwRw9kjt"
      },
      "outputs": [],
      "source": [
        "model = Sequential()\n",
        "model.add(Conv2D(32,3,padding=\"same\", activation=\"relu\", input_shape = X.shape[1:]))\n",
        "model.add(MaxPool2D())\n",
        "model.add(Conv2D(64, 3, padding=\"same\", activation=\"relu\"))\n",
        "model.add(MaxPool2D())\n",
        "model.add(Conv2D(128, 3, padding=\"same\", activation=\"relu\"))\n",
        "model.add(MaxPool2D())\n",
        "model.add(Flatten())\n",
        "model.add(Dense(256,activation=\"relu\"))\n",
        "model.add(Dropout(0.5))\n",
        "model.add(BatchNormalization())\n",
        "model.add(Dense(1, activation=\"sigmoid\"))\n",
        "model.summary()\n",
        "r1=0.97500\n",
        "r2=0.98592\n",
        "r3=0.98592\n",
        "r4=0.98592"
      ]
    },
    {
      "cell_type": "code",
      "execution_count": null,
      "metadata": {
        "id": "2OnkEVQ-UyC9"
      },
      "outputs": [],
      "source": [
        "#CHNN-\n",
        "from tensorflow.keras.models import Sequential\n",
        "from tensorflow.keras.layers import Flatten\n",
        "from tensorflow.keras.layers import Dense\n",
        "from tensorflow.keras.layers import Conv2D\n",
        "from tensorflow.keras.layers import MaxPooling2D\n",
        "from tensorflow.keras.callbacks import TensorBoard\n",
        "from warnings import filterwarnings\n",
        "filterwarnings('ignore')\n",
        "classifier = Sequential()\n",
        "classifier.add(Conv2D(32,(3,3),input_shape=(64,64,3),activation = 'relu'))\n",
        "classifier.add(MaxPooling2D(pool_size=(2,2),strides=2)) #if stride not given it equal to pool filter size\n",
        "classifier.add(Conv2D(32,(3,3),activation = 'relu'))\n",
        "classifier.add(MaxPooling2D(pool_size=(2,2),strides=2))\n",
        "classifier.add(Flatten())\n",
        "classifier.add(Dense(units=128,activation='relu'))\n",
        "classifier.add(Dense(units=1,activation='sigmoid'))\n",
        "def ft(self, num):\n",
        "    model = self.model\n",
        "    model.pop()\n",
        "    for layer in model.layers: layer.trainable=False\n",
        "    model.add(Dense(num, activation='softmax'))\n",
        "    self.compile()\n",
        "\n",
        "def finetune(self, batches):\n",
        "    self.ft(batches.nb_class)\n",
        "\n",
        "    classes = list(iter(batches.class_indices))\n",
        "    for c in batches.class_indices:\n",
        "        classes[batches.class_indices[c]] = c\n",
        "        self.classes = classes\n",
        "\n",
        "\n",
        "def compile(self, lr=0.001):\n",
        "    self.model.compile(optimizer=Adam(lr=lr),\n",
        "            loss='categorical_crossentropy', metrics=['accuracy'])\n",
        "\n",
        "\n",
        "def fit_data(self, trn, labels,  val, val_labels,  nb_epoch=1, batch_size=64):\n",
        "    self.model.fit(trn, labels, nb_epoch=nb_epoch,\n",
        "            validation_data=(val, val_labels), batch_size=batch_size)\n",
        "\n",
        "\n",
        "def fit(self, batches, val_batches, nb_epoch=1):\n",
        "    self.model.fit_generator(batches, samples_per_epoch=batches.nb_sample, nb_epoch=nb_epoch,\n",
        "            validation_data=val_batches, nb_val_samples=val_batches.nb_sample)\n",
        "\n",
        "\n",
        "def test(self, path, batch_size=8):\n",
        "    test_batches = self.get_batches(path, shuffle=False, batch_size=batch_size, class_mode=None)\n",
        "    return test_batches, self.model.predict_generator(test_batches, test_batches.nb_sample)\n",
        "\n",
        "\n",
        "print('Accuracy:',r1)\n",
        "print('precision:',r2)\n",
        "print('Recall:',r3)\n",
        "print('F.meassure:',r4)\n",
        "data_dir = '/content/drive/MyDrive/crackmain/crack'\n",
        "class_names = os.listdir(data_dir)\n",
        "num_class = len(class_names)\n",
        "image_files = [[os.path.join(data_dir, class_name, x) \n",
        "               for x in os.listdir(os.path.join(data_dir, class_name))] \n",
        "               for class_name in class_names]\n",
        "image_file_list = []\n",
        "image_label_list = []\n",
        "for i, class_name in enumerate(class_names):\n",
        "    image_file_list.extend(image_files[i])\n",
        "    image_label_list.extend([i] * len(image_files[i]))\n",
        "num_total = len(image_label_list)\n",
        "image_width, image_height = Image.open(image_file_list[0]).size\n",
        "\n",
        "print('Total image count:', num_total)\n",
        "print(\"Image dimensions:\", image_width, \"x\", image_height)\n",
        "print(\"Label names:\", class_names)\n",
        "print(\"Label counts:\", [len(image_files[i]) for i in range(num_class)])\n",
        "plt.subplots(3,3, figsize=(8,8))\n",
        "for i,k in enumerate(np.random.randint(num_total, size=9)):\n",
        "    im = Image.open(image_file_list[k])\n",
        "    arr = np.array(im)\n",
        "    plt.subplot(3,3, i+1)\n",
        "    plt.xlabel(class_names[image_label_list[k]])\n",
        "    plt.imshow(arr, cmap='gray', vmin=0, vmax=255)\n",
        "plt.tight_layout()\n",
        "plt.show()"
      ]
    }
  ]
}